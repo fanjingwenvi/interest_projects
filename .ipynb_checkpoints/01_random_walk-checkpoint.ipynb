{
 "cells": [
  {
   "cell_type": "code",
   "execution_count": 1,
   "metadata": {},
   "outputs": [],
   "source": [
    "## random walk is a fundamental modeling methond in physics, biology, chemistry\n",
    "## random walk in 1-dim, 2-dims and 3-dims \n",
    "## radom function: different probability distributions\n",
    "\n",
    "# numpy.random.randint: from numpy import random \n",
    "# random.randrange: import random "
   ]
  },
  {
   "cell_type": "code",
   "execution_count": 2,
   "metadata": {},
   "outputs": [],
   "source": [
    "import numpy as np\n",
    "from numpy import random \n",
    "random.seed(42)\n",
    "\n",
    "def random_walk_2(n):\n",
    "    '''\n",
    "    random_walk_2(n): take int(n) steps of random walk in the 2 \n",
    "    dimensional coordinate systemand the start point is (0, 0)\n",
    "    return: tupel(x, y)'''\n",
    "    x, y = 0, 0 \n",
    "    for i in range(n): \n",
    "        choices = [(0,1), (0,-1), (-1,0), (1,0)]\n",
    "        idc = random.randint (4)\n",
    "        (dx, dy) = choices[idc]\n",
    "        x += dx\n",
    "        y += dy \n",
    "    return (x, y)    "
   ]
  },
  {
   "cell_type": "code",
   "execution_count": 3,
   "metadata": {},
   "outputs": [],
   "source": [
    "def execute_random_walk_2(pars_num, steps_num):\n",
    "    '''\n",
    "    execute_random_walk_2: execute int(pars_num) particles and \n",
    "    int(steps_num) steps random_walk_2()\n",
    "    return: np.array(walks)\n",
    "    '''\n",
    "    walks = []\n",
    "    for i in range(pars_num):\n",
    "        walk = random_walk_2(steps_num)\n",
    "        walks.append(walk)\n",
    "    return np.array(walks)"
   ]
  },
  {
   "cell_type": "code",
   "execution_count": 4,
   "metadata": {},
   "outputs": [
    {
     "name": "stdout",
     "output_type": "stream",
     "text": [
      "walks.shape (1000, 2) \n",
      "\n",
      "The positions of first 10 particles: [array([-2,  2]), array([-1,  1]), array([ 4, -4]), array([1, 3]), array([ 1, -3]), array([-1,  1]), array([-1,  1]), array([ 2, -2]), array([0, 0]), array([ 3, -5]), array([ 0, -6]), array([2, 0]), array([3, 1]), array([-1,  7]), array([2, 2]), array([-3,  1]), array([0, 0]), array([-1,  1]), array([-4,  0]), array([-4,  0])] \n",
      "\n",
      "The average distance from (0, 0):  3.52\n"
     ]
    }
   ],
   "source": [
    "pars_num = 1000\n",
    "steps_num = 10\n",
    "walks = execute_random_walk_2(pars_num, steps_num)\n",
    "print('walks.shape', walks.shape, '\\n')\n",
    "print('The positions of first 10 particles:', list(walks[:20, :]), '\\n')\n",
    "print('The average distance from (0, 0): ', \n",
    "      np.mean(np.abs(walks[:,0])+np.abs(walks[:,1])) )"
   ]
  },
  {
   "cell_type": "code",
   "execution_count": 5,
   "metadata": {},
   "outputs": [
    {
     "data": {
      "image/png": "[encoded data removed]",
      "text/plain": [
       "<Figure size 432x432 with 1 Axes>"
      ]
     },
     "metadata": {
      "needs_background": "light"
     },
     "output_type": "display_data"
    }
   ],
   "source": [
    "import matplotlib.pyplot as plt\n",
    "plt.figure(figsize=(6, 6))\n",
    "plt.scatter(walks[:, 0], walks[:, 1], alpha= 0.02)\n",
    "plt.plot(0, 0, color = 'red', marker = '+', markersize = 10)\n",
    "plt.title('Random Walk', fontsize=15)\n",
    "plt.show()"
   ]
  },
  {
   "cell_type": "code",
   "execution_count": 6,
   "metadata": {},
   "outputs": [
    {
     "name": "stdout",
     "output_type": "stream",
     "text": [
      "average distance for 0 steps: 0.0\n",
      "average distance for 1 steps: 1.0\n",
      "average distance for 2 steps: 1.465\n",
      "average distance for 3 steps: 1.883\n",
      "average distance for 4 steps: 2.185\n",
      "average distance for 5 steps: 2.475\n",
      "average distance for 6 steps: 2.707\n",
      "average distance for 7 steps: 2.966\n",
      "average distance for 8 steps: 3.133\n",
      "average distance for 9 steps: 3.342\n",
      "average distance for 10 steps: 3.52\n",
      "average distance for 11 steps: 3.77\n",
      "average distance for 12 steps: 3.864\n",
      "average distance for 13 steps: 4.052\n",
      "average distance for 14 steps: 4.275\n",
      "average distance for 15 steps: 4.3\n",
      "average distance for 16 steps: 4.421\n",
      "average distance for 17 steps: 4.696\n",
      "average distance for 18 steps: 4.713\n",
      "average distance for 19 steps: 4.915\n",
      "average distance for 20 steps: 5.045\n",
      "average distance for 21 steps: 5.189\n",
      "average distance for 22 steps: 5.211\n",
      "average distance for 23 steps: 5.394\n",
      "average distance for 24 steps: 5.428\n",
      "average distance for 25 steps: 5.604\n",
      "average distance for 26 steps: 5.701\n",
      "average distance for 27 steps: 5.795\n",
      "average distance for 28 steps: 5.946\n",
      "average distance for 29 steps: 6.117\n"
     ]
    }
   ],
   "source": [
    "'''\n",
    "find the most steps the one can take, if the average distance from should \n",
    "be less than 5\n",
    "'''\n",
    "p = 2000\n",
    "r = 30 \n",
    "for s in range(r): \n",
    "    walks = execute_random_walk_2(p, s)\n",
    "    print(f'average distance for {s} steps:', \n",
    "      np.mean(np.abs(walks[:,0])+np.abs(walks[:,1])) )"
   ]
  },
  {
   "cell_type": "code",
   "execution_count": null,
   "metadata": {},
   "outputs": [],
   "source": []
  }
 ],
 "metadata": {
  "kernelspec": {
   "display_name": "Python 3",
   "language": "python",
   "name": "python3"
  },
  "language_info": {
   "codemirror_mode": {
    "name": "ipython",
    "version": 3
   },
   "file_extension": ".py",
   "mimetype": "text/x-python",
   "name": "python",
   "nbconvert_exporter": "python",
   "pygments_lexer": "ipython3",
   "version": "3.8.3"
  }
 },
 "nbformat": 4,
 "nbformat_minor": 4
}
